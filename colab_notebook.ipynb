# Replace your GitHub username and repo URL
!git clone https://colab.research.google.com/github/SwatiK425/company_research/blob/main/colab_notebook.ipynb

%cd company_research
!pip install -r requirements.txt

from agent import run_agent

# Provide the company name and earnings transcript link
run_agent("Meta", earnings_url="https://www.fool.com/earnings/call-transcripts/2025/01/29/meta-platforms-meta-q4-2024-earnings-call-transcri/")


# 🤖 Company Research Agent (Colab)

This notebook runs the company research AI agent end-to-end.

Just:
- Set your company name
- Paste a valid earnings call transcript URL
- Run the agent to get a CPO-level briefing
