!git clone https://colab.research.google.com/github/SwatiK425/company_research/blob/main/colab_notebook.ipynb

%cd company_research
!pip install -r requirements.txt

from agent import run_agent
run_agent("Meta", earnings_url="https://www.fool.com/earnings/call-transcripts/2025/01/29/meta-platforms-meta-q4-2024-earnings-call-transcri/")
